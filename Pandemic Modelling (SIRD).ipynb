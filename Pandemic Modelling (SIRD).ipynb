{
 "cells": [
  {
   "cell_type": "code",
   "execution_count": 1,
   "metadata": {},
   "outputs": [],
   "source": [
    "import numpy as np\n",
    "import matplotlib.pyplot as plt\n",
    "import matplotlib.style\n",
    "matplotlib.style.use('seaborn')"
   ]
  },
  {
   "cell_type": "code",
   "execution_count": 22,
   "metadata": {},
   "outputs": [],
   "source": [
    "def SIRD(s, i, r, d, beta, gamma, mu):\n",
    "    '''\n",
    "    Parameters: Current values of s (susceptible), i (infected), r(recovered), d (deceased)\n",
    "                beta  - expected number of new infections coming from each person per day, assuming\n",
    "                        everyone they interact with is susceptible.\n",
    "                gamma - probability/day of infected person recovering\n",
    "                mu    - probability/day of infected dieing\n",
    "    \n",
    "    roc = rate of change\n",
    "    \n",
    "    Outputs:    s_roc, i_roc, r_roc, d_roc\n",
    "    '''\n",
    "    N = s + i + r + d\n",
    "    \n",
    "    s_roc = - beta * (s / N) * i\n",
    "    r_roc = gamma * i\n",
    "    d_roc = mu * i\n",
    "    \n",
    "    i_roc = - s_roc - r_roc - d_roc\n",
    "    return s_roc, i_roc, r_roc, d_roc"
   ]
  },
  {
   "cell_type": "code",
   "execution_count": 7,
   "metadata": {},
   "outputs": [],
   "source": [
    "def solv_eq(ts, s0, i0, r0, d0, beta, gamma, mu):\n",
    "    a = ts[1] - ts[0]\n",
    "    s_list = [s0]\n",
    "    i_list = [i0]\n",
    "    r_list = [r0]\n",
    "    d_list = [d0]\n",
    "    \n",
    "    scurrent = s0\n",
    "    icurrent = i0\n",
    "    rcurrent = r0\n",
    "    dcurrent = d0\n",
    "    for t in ts:\n",
    "        s_roc, i_roc, r_roc, d_roc = SIRD(scurrent, icurrent, rcurrent, dcurrent, beta, gamma, mu)\n",
    "        \n",
    "        s_list.append(scurrent + a * s_roc)\n",
    "        i_list.append(icurrent + a * i_roc)\n",
    "        r_list.append(rcurrent + a * r_roc)\n",
    "        d_list.append(dcurrent + a * d_roc)\n",
    "        \n",
    "        scurrent = s_list[-1]\n",
    "        icurrent = i_list[-1]\n",
    "        rcurrent = r_list[-1]\n",
    "        dcurrent = d_list[-1]\n",
    "    s_list.pop()\n",
    "    i_list.pop()\n",
    "    r_list.pop()\n",
    "    d_list.pop()\n",
    "\n",
    "    return s_list, i_list, r_list, d_list"
   ]
  },
  {
   "cell_type": "code",
   "execution_count": 68,
   "metadata": {},
   "outputs": [],
   "source": [
    "\n",
    "'starts with one infected, all others susceptible'\n",
    "def plotter(s0, i0, hospitalcap, plots=False, ploti=True, plotr=False, plotd=False, ploth=True, r0=0, d0=0, beta = 0.09):\n",
    "    ts = np.linspace(0, 400, 1000,)\n",
    "    gamma = 0.01\n",
    "    mu = 0.005\n",
    "    s_list, i_list, r_list, d_list = solv_eq(ts, s0, i0, r0, d0, beta, gamma, mu)\n",
    "    if plots:\n",
    "        plt.plot(ts, s_list, label='# susceptible')\n",
    "    if ploti:\n",
    "        plt.plot(ts, i_list, label='# infected')\n",
    "    if plotr:\n",
    "        plt.plot(ts, r_list, label='# recovered')\n",
    "    if plotd:\n",
    "        plt.plot(ts, d_list, label='# deceased')\n",
    "    if ploth:\n",
    "        plt.hlines(250, 0, 400, label = 'hospital capacity', linestyles=':')\n",
    "    plt.legend()"
   ]
  },
  {
   "cell_type": "code",
   "execution_count": 78,
   "metadata": {},
   "outputs": [
    {
     "data": {
      "image/png": "[encoded data removed]",
      "text/plain": [
       "<Figure size 576x396 with 1 Axes>"
      ]
     },
     "metadata": {},
     "output_type": "display_data"
    }
   ],
   "source": [
    "# Mess around with beta and see the curve flatten.\n",
    "plotter(999, 1, 250, beta=0.09)"
   ]
  }
 ],
 "metadata": {
  "kernelspec": {
   "display_name": "Python 3",
   "language": "python",
   "name": "python3"
  },
  "language_info": {
   "codemirror_mode": {
    "name": "ipython",
    "version": 3
   },
   "file_extension": ".py",
   "mimetype": "text/x-python",
   "name": "python",
   "nbconvert_exporter": "python",
   "pygments_lexer": "ipython3",
   "version": "3.8.3"
  }
 },
 "nbformat": 4,
 "nbformat_minor": 4
}
